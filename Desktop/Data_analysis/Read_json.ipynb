{
 "cells": [
  {
   "cell_type": "code",
   "execution_count": 19,
   "id": "92b7470f-e5e4-40de-b6d5-b69cd677047f",
   "metadata": {},
   "outputs": [
    {
     "data": {
      "text/html": [
       "<div>\n",
       "<style scoped>\n",
       "    .dataframe tbody tr th:only-of-type {\n",
       "        vertical-align: middle;\n",
       "    }\n",
       "\n",
       "    .dataframe tbody tr th {\n",
       "        vertical-align: top;\n",
       "    }\n",
       "\n",
       "    .dataframe thead th {\n",
       "        text-align: right;\n",
       "    }\n",
       "</style>\n",
       "<table border=\"1\" class=\"dataframe\">\n",
       "  <thead>\n",
       "    <tr style=\"text-align: right;\">\n",
       "      <th></th>\n",
       "      <th>title</th>\n",
       "      <th>year</th>\n",
       "      <th>cast</th>\n",
       "      <th>genres</th>\n",
       "    </tr>\n",
       "  </thead>\n",
       "  <tbody>\n",
       "    <tr>\n",
       "      <th>person 1</th>\n",
       "      <td>After Dark in Central Park</td>\n",
       "      <td>1900</td>\n",
       "      <td>[]</td>\n",
       "      <td>[]</td>\n",
       "    </tr>\n",
       "    <tr>\n",
       "      <th>person 2</th>\n",
       "      <td>Boarding School Girls' Pajama Parade</td>\n",
       "      <td>1900</td>\n",
       "      <td>[]</td>\n",
       "      <td>[]</td>\n",
       "    </tr>\n",
       "    <tr>\n",
       "      <th>person 3</th>\n",
       "      <td>Buffalo Bill's Wild West Parad</td>\n",
       "      <td>1900</td>\n",
       "      <td>[]</td>\n",
       "      <td>[]</td>\n",
       "    </tr>\n",
       "    <tr>\n",
       "      <th>person 4</th>\n",
       "      <td>Caught</td>\n",
       "      <td>1900</td>\n",
       "      <td>[]</td>\n",
       "      <td>[]</td>\n",
       "    </tr>\n",
       "    <tr>\n",
       "      <th>person 5</th>\n",
       "      <td>Clowns Spinning Hats</td>\n",
       "      <td>1900</td>\n",
       "      <td>[]</td>\n",
       "      <td>[]</td>\n",
       "    </tr>\n",
       "    <tr>\n",
       "      <th>...</th>\n",
       "      <td>...</td>\n",
       "      <td>...</td>\n",
       "      <td>...</td>\n",
       "      <td>...</td>\n",
       "    </tr>\n",
       "    <tr>\n",
       "      <th>person 28791</th>\n",
       "      <td>Bumblebee</td>\n",
       "      <td>2018</td>\n",
       "      <td>[Hailee Steinfeld, John Cena, Jorge Lendeborg ...</td>\n",
       "      <td>[Action, Adventure, Science Fiction]</td>\n",
       "    </tr>\n",
       "    <tr>\n",
       "      <th>person 28792</th>\n",
       "      <td>Welcome to Marwen</td>\n",
       "      <td>2018</td>\n",
       "      <td>[Steve Carell, Leslie Mann, Diane Kruger, Falk...</td>\n",
       "      <td>[Fantasy, Drama]</td>\n",
       "    </tr>\n",
       "    <tr>\n",
       "      <th>person 28793</th>\n",
       "      <td>Holmes and Watson</td>\n",
       "      <td>2018</td>\n",
       "      <td>[Will Ferrell, John C. Reilly, Rebecca Hall, R...</td>\n",
       "      <td>[Action, Mystery, Comedy]</td>\n",
       "    </tr>\n",
       "    <tr>\n",
       "      <th>person 28794</th>\n",
       "      <td>On the Basis of Sex</td>\n",
       "      <td>2018</td>\n",
       "      <td>[Felicity Jones, Armie Hammer, Justin Theroux,...</td>\n",
       "      <td>[Biography, Drama]</td>\n",
       "    </tr>\n",
       "    <tr>\n",
       "      <th>person 28795</th>\n",
       "      <td>Destroyer</td>\n",
       "      <td>2018</td>\n",
       "      <td>[Nicole Kidman, Tatiana Maslany, Sebastian Sta...</td>\n",
       "      <td>[Crime, Thriller]</td>\n",
       "    </tr>\n",
       "  </tbody>\n",
       "</table>\n",
       "<p>28795 rows × 4 columns</p>\n",
       "</div>"
      ],
      "text/plain": [
       "                                               title  year  \\\n",
       "person 1                  After Dark in Central Park  1900   \n",
       "person 2        Boarding School Girls' Pajama Parade  1900   \n",
       "person 3              Buffalo Bill's Wild West Parad  1900   \n",
       "person 4                                      Caught  1900   \n",
       "person 5                        Clowns Spinning Hats  1900   \n",
       "...                                              ...   ...   \n",
       "person 28791                               Bumblebee  2018   \n",
       "person 28792                       Welcome to Marwen  2018   \n",
       "person 28793                       Holmes and Watson  2018   \n",
       "person 28794                     On the Basis of Sex  2018   \n",
       "person 28795                               Destroyer  2018   \n",
       "\n",
       "                                                             cast  \\\n",
       "person 1                                                       []   \n",
       "person 2                                                       []   \n",
       "person 3                                                       []   \n",
       "person 4                                                       []   \n",
       "person 5                                                       []   \n",
       "...                                                           ...   \n",
       "person 28791    [Hailee Steinfeld, John Cena, Jorge Lendeborg ...   \n",
       "person 28792    [Steve Carell, Leslie Mann, Diane Kruger, Falk...   \n",
       "person 28793    [Will Ferrell, John C. Reilly, Rebecca Hall, R...   \n",
       "person 28794    [Felicity Jones, Armie Hammer, Justin Theroux,...   \n",
       "person 28795    [Nicole Kidman, Tatiana Maslany, Sebastian Sta...   \n",
       "\n",
       "                                              genres  \n",
       "person 1                                          []  \n",
       "person 2                                          []  \n",
       "person 3                                          []  \n",
       "person 4                                          []  \n",
       "person 5                                          []  \n",
       "...                                              ...  \n",
       "person 28791    [Action, Adventure, Science Fiction]  \n",
       "person 28792                        [Fantasy, Drama]  \n",
       "person 28793               [Action, Mystery, Comedy]  \n",
       "person 28794                      [Biography, Drama]  \n",
       "person 28795                       [Crime, Thriller]  \n",
       "\n",
       "[28795 rows x 4 columns]"
      ]
     },
     "execution_count": 19,
     "metadata": {},
     "output_type": "execute_result"
    }
   ],
   "source": [
    "import pandas as pd \n",
    "json_file = \"json_file/movies.json\"\n",
    "df = pd.read_json(json_file)\n",
    "df.index =[ f\"person {i+ 1}  \" for i in range(len(df))]\n",
    "df"
   ]
  },
  {
   "cell_type": "code",
   "execution_count": 10,
   "id": "5f395452-f98b-450a-a814-17a65c49dcc5",
   "metadata": {},
   "outputs": [
    {
     "data": {
      "text/plain": [
       "(28795, 4)"
      ]
     },
     "execution_count": 10,
     "metadata": {},
     "output_type": "execute_result"
    }
   ],
   "source": [
    "df.shape"
   ]
  },
  {
   "cell_type": "code",
   "execution_count": 11,
   "id": "acc23ad3-e22b-4ecf-b0f1-70e099e9f541",
   "metadata": {},
   "outputs": [
    {
     "data": {
      "text/plain": [
       "115180"
      ]
     },
     "execution_count": 11,
     "metadata": {},
     "output_type": "execute_result"
    }
   ],
   "source": [
    "df.size"
   ]
  },
  {
   "cell_type": "code",
   "execution_count": 16,
   "id": "6b39468a-041f-4f5d-a705-a19e6fc033f1",
   "metadata": {},
   "outputs": [
    {
     "data": {
      "text/plain": [
       "np.int64(0)"
      ]
     },
     "execution_count": 16,
     "metadata": {},
     "output_type": "execute_result"
    }
   ],
   "source": [
    "df.isna().sum().sum()"
   ]
  },
  {
   "cell_type": "code",
   "execution_count": null,
   "id": "05705893-88e7-4492-a84b-adadd3ce4853",
   "metadata": {},
   "outputs": [],
   "source": []
  }
 ],
 "metadata": {
  "kernelspec": {
   "display_name": "Python 3 (ipykernel)",
   "language": "python",
   "name": "python3"
  },
  "language_info": {
   "codemirror_mode": {
    "name": "ipython",
    "version": 3
   },
   "file_extension": ".py",
   "mimetype": "text/x-python",
   "name": "python",
   "nbconvert_exporter": "python",
   "pygments_lexer": "ipython3",
   "version": "3.13.5"
  }
 },
 "nbformat": 4,
 "nbformat_minor": 5
}
